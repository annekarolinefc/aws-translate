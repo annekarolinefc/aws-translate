{
 "cells": [
  {
   "cell_type": "markdown",
   "metadata": {},
   "source": [
    "# AWS Translate"
   ]
  },
  {
   "cell_type": "markdown",
   "metadata": {},
   "source": [
    "In this notebook, we will walk through how to use boto3 to interact with [AWS Translate](https://boto3.amazonaws.com/v1/documentation/api/latest/reference/services/translate.html) for translating text from one language to another.\n"
   ]
  },
  {
   "cell_type": "code",
   "execution_count": 1,
   "metadata": {},
   "outputs": [],
   "source": [
    "import os\n",
    "\n",
    "os.environ['AWS_ACCESS_KEY_ID'] = ''\n",
    "os.environ['AWS_SECRET_ACCESS_KEY'] = ''\n",
    "os.environ['REGION_NAME'] = 'us-west-1'"
   ]
  },
  {
   "cell_type": "markdown",
   "metadata": {},
   "source": [
    "### Translating the transcribed text\n",
    "\n",
    "With [translate](https://boto3.amazonaws.com/v1/documentation/api/latest/reference/services/translate.html), we can convert the transcribed text (or of course, any text) into another language.\n",
    "\n",
    "You can use client.translate_text to which you pass:\n",
    "\n",
    "- Text: The text to translate\n",
    "- SourceLanguageCode: The source language\n",
    "- TargetLanguageCode: The language you want to translate to\n",
    "\n",
    "Note that you can also pass a [Terminology List](https://docs.aws.amazon.com/translate/latest/dg/how-custom-terminology.html) to make sure, custom words are not translated.\n",
    "\n",
    "As an alternative, you can translate entire [documents](https://boto3.amazonaws.com/v1/documentation/api/latest/reference/services/translate/client/translate_document.html) in one call.\n",
    "\n",
    "Let's translate the above transcribed text to spanish.\n",
    "You can find the according language codes [here](https://docs.aws.amazon.com/translate/latest/dg/what-is-languages.html)"
   ]
  },
  {
   "cell_type": "code",
   "execution_count": 3,
   "metadata": {},
   "outputs": [],
   "source": [
    "#text = transcribed_data[\"results\"][\"transcripts\"][0][\"transcript\"]\n",
    "text = \"Hello Everyone\""
   ]
  },
  {
   "cell_type": "code",
   "execution_count": 4,
   "metadata": {},
   "outputs": [
    {
     "name": "stdout",
     "output_type": "stream",
     "text": [
      "Olá a todos\n"
     ]
    }
   ],
   "source": [
    "import boto3\n",
    "\n",
    "translate = boto3.client('translate', region_name=\"us-east-1\")\n",
    "\n",
    "response = translate.translate_text(\n",
    "    Text=text,\n",
    "    SourceLanguageCode=\"en\",\n",
    "    TargetLanguageCode=\"pt\"\n",
    ")\n",
    "print(response['TranslatedText'])"
   ]
  }
 ],
 "metadata": {
  "kernelspec": {
   "display_name": "Python 3 (ipykernel)",
   "language": "python",
   "name": "python3"
  },
  "language_info": {
   "codemirror_mode": {
    "name": "ipython",
    "version": 3
   },
   "file_extension": ".py",
   "mimetype": "text/x-python",
   "name": "python",
   "nbconvert_exporter": "python",
   "pygments_lexer": "ipython3",
   "version": "3.10.8"
  }
 },
 "nbformat": 4,
 "nbformat_minor": 2
}
